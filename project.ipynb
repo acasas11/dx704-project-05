{
  "cells": [
    {
      "cell_type": "markdown",
      "metadata": {
        "id": "Md413FzAvFD8"
      },
      "source": [
        "# DX 704 Week 5 Project\n",
        "\n",
        "This week's project will test your understanding of this week's concepts by asking you to simulate various algorithms by hand.\n",
        "You will apply search, minimax and dynamic programming concepts to solve a variety of small planning problems."
      ]
    },
    {
      "cell_type": "markdown",
      "metadata": {
        "id": "MeWtrixsH2uH"
      },
      "source": [
        "The full project description, a template notebook and supporting materials are available on GitHub: [Project 5 Materials](https://github.com/bu-cds-dx704/dx704-project-05)."
      ]
    },
    {
      "cell_type": "markdown",
      "metadata": {
        "id": "uRC-Wd81daLm"
      },
      "source": [
        "## Example Code\n",
        "\n",
        "This week's assignment does not involve any coding."
      ]
    },
    {
      "cell_type": "markdown",
      "metadata": {
        "id": "C8oSLkMqvMFF"
      },
      "source": [
        "## Part 1: Searching vs Games\n",
        "\n",
        "Consider the state space illustrated below.\n",
        "Each terminal state state is marked with a reward for reaching that state.\n",
        "Each non-terminal state has two possible actions represented by the two outgoing arrows to later (lower) states.\n",
        "The only rewards are for reaching the terminal states, there are no diminishing returns (i.e. $\\gamma=1$), and there is no randomness so actions may be freely chosen."
      ]
    },
    {
      "cell_type": "markdown",
      "metadata": {
        "id": "IqIrGebXXNEA"
      },
      "source": [
        "![](https://github.com/bu-cds-dx704/dx704-project-05/blob/main/part1.png?raw=true)"
      ]
    },
    {
      "cell_type": "markdown",
      "metadata": {
        "id": "3rpIFDV0rQ2-"
      },
      "source": [
        "Solve for the value of each non-terminal state according to the following three scenarios.\n",
        "\n",
        "1. Search: There is one agent that picks all actions with the goal of maximizing the final reward.\n",
        "2. Minimax: There are two agents P1 and P2. P1 controls the actions for the 1st and 3rd rows (i.e. the states marked A and D-G) while P2 controls the actions for the 2nd and 4th rows (i.e. the states B-C and H-J). P1 seeks to maximize the final reward, and P2 seeks to minimize the final reward.\n",
        "3. Maximin: P1 and P2 control the same states as before, but P1 seeks to minimize the final reward, and P2 seeks to maximize the final reward.\n",
        "\n",
        "Save your results in a file \"values-1.tsv\" with the column state with label A-J and columns search_value, minimax_value, and maximin_value that respectively correspond to the three scenarios."
      ]
    },
    {
      "cell_type": "markdown",
      "metadata": {
        "id": "sH9SgF44sU9o"
      },
      "source": [
        "Hint: Print out the image above and compute the values by hand in a bottom up fashion."
      ]
    },
    {
      "cell_type": "code",
      "execution_count": 1,
      "metadata": {},
      "outputs": [
        {
          "name": "stdout",
          "output_type": "stream",
          "text": [
            "File 'values-1.tsv' has been created successfully!\n",
            "\n",
            "Contents of values-1.tsv:\n",
            "state\tsearch_value\tminimax_value\tmaximin_value\n",
            "A\t20\t\t1\t\t0\n",
            "B\t20\t\t1\t\t9\n",
            "C\t1\t\t1\t\t0\n",
            "D\t20\t\t1\t\t9\n",
            "E\t5\t\t5\t\t3\n",
            "F\t1\t\t1\t\t-1\n",
            "G\t1\t\t1\t\t0\n",
            "H\t9\t\t-1\t\t9\n",
            "I\t20\t\t1\t\t20\n",
            "J\t3\t\t2\t\t3\n"
          ]
        }
      ],
      "source": [
        "import csv\n",
        "\n",
        "data = [\n",
        "    {'state': 'A', 'search_value': 20, 'minimax_value': 1, 'maximin_value': 0},\n",
        "    {'state': 'B', 'search_value': 20, 'minimax_value': 1, 'maximin_value': 9},\n",
        "    {'state': 'C', 'search_value': 1, 'minimax_value': 1, 'maximin_value': 0},\n",
        "    {'state': 'D', 'search_value': 20, 'minimax_value': 1, 'maximin_value': 9},\n",
        "    {'state': 'E', 'search_value': 5, 'minimax_value': 5, 'maximin_value': 3},\n",
        "    {'state': 'F', 'search_value': 1, 'minimax_value': 1, 'maximin_value': -1},\n",
        "    {'state': 'G', 'search_value': 1, 'minimax_value': 1, 'maximin_value': 0},\n",
        "    {'state': 'H', 'search_value': 9, 'minimax_value': -1, 'maximin_value': 9},\n",
        "    {'state': 'I', 'search_value': 20, 'minimax_value': 1, 'maximin_value': 20},\n",
        "    {'state': 'J', 'search_value': 3, 'minimax_value': 2, 'maximin_value': 3},\n",
        "]\n",
        "\n",
        "with open('values-1.tsv', 'w', newline='') as tsvfile:\n",
        "    fieldnames = ['state', 'search_value', 'minimax_value', 'maximin_value']\n",
        "    writer = csv.DictWriter(tsvfile, fieldnames=fieldnames, delimiter='\\t')\n",
        "    \n",
        "    writer.writeheader()\n",
        "    writer.writerows(data)\n",
        "\n",
        "print(\"File 'values-1.tsv' has been created successfully!\")\n",
        "\n",
        "print(\"\\nContents of values-1.tsv:\")\n",
        "print(\"state\\tsearch_value\\tminimax_value\\tmaximin_value\")\n",
        "for row in data:\n",
        "    print(f\"{row['state']}\\t{row['search_value']}\\t\\t{row['minimax_value']}\\t\\t{row['maximin_value']}\")"
      ]
    },
    {
      "cell_type": "markdown",
      "metadata": {
        "id": "FiuoS64VuPaQ"
      },
      "source": [
        "Submit the file \"values-1.tsv\" in Gradescope."
      ]
    },
    {
      "cell_type": "markdown",
      "metadata": {
        "id": "kfvETFzfbLtM"
      },
      "source": [
        "## Part 2: Picking Up Sticks\n",
        "\n",
        "The state space illustrated below corresponds to a variation of the game [Nim](https://en.wikipedia.org/wiki/Nim).\n",
        "States labeled with a prefix of \"p1_\" correspond to states where player P1 chooses the action while states labeled with a prefix of \"p2_\" correspond to states where player P2 chooses the action.\n",
        "The number in the suffix is the number of \"sticks\" remaining.\n",
        "The players take turns choosing actions, and each action corresponds to removing one or two sticks.\n",
        "When there are no more sticks, the player who would have picked an action loses.\n"
      ]
    },
    {
      "cell_type": "markdown",
      "metadata": {
        "id": "lvbiyLjebPz4"
      },
      "source": [
        "![](https://github.com/bu-cds-dx704/dx704-project-05/blob/main/part2.png?raw=true)"
      ]
    },
    {
      "cell_type": "markdown",
      "metadata": {
        "id": "4iwgAVJptral"
      },
      "source": [
        "For example, from the state labeled \"p1_1\", there is one stick left, player P1 removes the last stick, and player P2 loses.\n",
        "The loss for P2 is represented by a final reward of +1.\n",
        "A loss for P1 is represented by a final reward of -1.\n",
        "Player P1 tries to maximize the final reward, and player P2 tries to minimize the final reward."
      ]
    },
    {
      "cell_type": "markdown",
      "metadata": {
        "id": "5cHZf7Y7t0rN"
      },
      "source": [
        "Solve for the value of each of the non-terminal states.\n",
        "Save the results in a file \"values-2.tsv\" with columns state and value."
      ]
    },
    {
      "cell_type": "code",
      "execution_count": 2,
      "metadata": {},
      "outputs": [
        {
          "name": "stdout",
          "output_type": "stream",
          "text": [
            "File 'values-2.tsv' has been created successfully!\n",
            "\n",
            "Contents of values-2.tsv:\n",
            "state\tvalue\n",
            "p1_1\t1\n",
            "p2_1\t-1\n",
            "p1_2\t1\n",
            "p2_2\t-1\n",
            "p1_3\t-1\n",
            "p2_3\t1\n",
            "p1_4\t1\n",
            "p2_4\t-1\n",
            "p1_5\t1\n",
            "p2_5\t-1\n",
            "\n",
            "--- Pattern Analysis ---\n",
            "P1 states (P1 maximizes):\n",
            "  p1_1: 1\n",
            "  p1_2: 1\n",
            "  p1_3: -1\n",
            "  p1_4: 1\n",
            "  p1_5: 1\n",
            "\n",
            "P2 states (P2 minimizes):\n",
            "  p2_1: -1\n",
            "  p2_2: -1\n",
            "  p2_3: 1\n",
            "  p2_4: -1\n",
            "  p2_5: -1\n"
          ]
        }
      ],
      "source": [
        "data = [\n",
        "    {'state': 'p1_1', 'value': 1},\n",
        "    {'state': 'p2_1', 'value': -1},\n",
        "    {'state': 'p1_2', 'value': 1},\n",
        "    {'state': 'p2_2', 'value': -1},\n",
        "    {'state': 'p1_3', 'value': -1},\n",
        "    {'state': 'p2_3', 'value': 1},\n",
        "    {'state': 'p1_4', 'value': 1},\n",
        "    {'state': 'p2_4', 'value': -1},\n",
        "    {'state': 'p1_5', 'value': 1},\n",
        "    {'state': 'p2_5', 'value': -1},\n",
        "]\n",
        "\n",
        "with open('values-2.tsv', 'w', newline='') as tsvfile:\n",
        "    fieldnames = ['state', 'value']\n",
        "    writer = csv.DictWriter(tsvfile, fieldnames=fieldnames, delimiter='\\t')\n",
        "    \n",
        "    writer.writeheader()\n",
        "    writer.writerows(data)\n",
        "\n",
        "print(\"File 'values-2.tsv' has been created successfully!\")\n",
        "\n",
        "print(\"\\nContents of values-2.tsv:\")\n",
        "print(\"state\\tvalue\")\n",
        "for row in data:\n",
        "    print(f\"{row['state']}\\t{row['value']}\")\n",
        "\n",
        "print(\"\\n--- Pattern Analysis ---\")\n",
        "print(\"P1 states (P1 maximizes):\")\n",
        "for row in data:\n",
        "    if row['state'].startswith('p1_'):\n",
        "        print(f\"  {row['state']}: {row['value']}\")\n",
        "        \n",
        "print(\"\\nP2 states (P2 minimizes):\")\n",
        "for row in data:\n",
        "    if row['state'].startswith('p2_'):\n",
        "        print(f\"  {row['state']}: {row['value']}\")"
      ]
    },
    {
      "cell_type": "markdown",
      "metadata": {
        "id": "gLkvKANCuTkK"
      },
      "source": [
        "Submit the file \"values-2.tsv\" in Gradescope."
      ]
    },
    {
      "cell_type": "markdown",
      "metadata": {
        "id": "NWFScR_kuVnU"
      },
      "source": [
        "## Part 3: Searching a Maze\n",
        "\n",
        "Consider the following maze."
      ]
    },
    {
      "cell_type": "markdown",
      "metadata": {
        "id": "MqPKQ9mEx7Al"
      },
      "source": [
        "![](https://github.com/bu-cds-dx704/dx704-project-05/blob/main/part3.png?raw=true)"
      ]
    },
    {
      "cell_type": "markdown",
      "metadata": {
        "id": "4NtP8sDMvTSS"
      },
      "source": [
        "State C is a terminal state giving reward +100.\n",
        "The remaining states have a reward of -1 when they are reached.\n",
        "So moving to state F has a value of +99 do to the reward of -1 at state F and the optimal action of moving to state C for the reward of +100 afterwards."
      ]
    },
    {
      "cell_type": "markdown",
      "metadata": {
        "id": "82BHKa1syjEk"
      },
      "source": [
        "Compute the values for states A-J and S and save them in a file \"values-3.tsv\" with columns state and value."
      ]
    },
    {
      "cell_type": "code",
      "execution_count": 4,
      "metadata": {},
      "outputs": [
        {
          "name": "stdout",
          "output_type": "stream",
          "text": [
            "Converged after 9 iterations\n",
            "File 'values-3.tsv' has been created successfully!\n",
            "\n",
            "Contents of values-3.tsv:\n",
            "state\tvalue\n",
            "A\t92\n",
            "B\t94\n",
            "C\t100\n",
            "D\t95\n",
            "E\t95\n",
            "F\t99\n",
            "G\t96\n",
            "H\t96\n",
            "I\t97\n",
            "J\t98\n",
            "S\t93\n",
            "\n",
            "--- Final Values ---\n",
            "A: 92\n",
            "B: 94\n",
            "C: 100\n",
            "D: 95\n",
            "E: 95\n",
            "F: 99\n",
            "G: 96\n",
            "H: 96\n",
            "I: 97\n",
            "J: 98\n",
            "S: 93\n"
          ]
        }
      ],
      "source": [
        "graph = {\n",
        "    'S': ['A', 'B'],\n",
        "    'A': ['S'],\n",
        "    'B': ['S', 'D'],\n",
        "    'D': ['B', 'E', 'G'],\n",
        "    'E': ['D', 'H'],\n",
        "    'F': ['C', 'J'],\n",
        "    'G': ['D', 'I'],\n",
        "    'H': ['E', 'I'],\n",
        "    'I': ['G', 'H', 'J'],\n",
        "    'J': ['F', 'I'],\n",
        "    'C': []\n",
        "}\n",
        "\n",
        "values = {state: -float('inf') for state in graph.keys()}\n",
        "values['C'] = 100\n",
        "\n",
        "max_iterations = 100\n",
        "for iteration in range(max_iterations):\n",
        "    old_values = values.copy()\n",
        "    \n",
        "    for state in graph.keys():\n",
        "        if state == 'C':\n",
        "            continue\n",
        "        \n",
        "        if len(graph[state]) == 0:\n",
        "            continue\n",
        "        \n",
        "        max_value = -float('inf')\n",
        "        for next_state in graph[state]:\n",
        "            value_through_next = old_values[next_state] - 1\n",
        "            max_value = max(max_value, value_through_next)\n",
        "        \n",
        "        values[state] = max_value\n",
        "    \n",
        "    if all(abs(values[s] - old_values[s]) < 0.001 for s in values.keys()):\n",
        "        print(f\"Converged after {iteration + 1} iterations\")\n",
        "        break\n",
        "\n",
        "data = [{'state': state, 'value': int(values[state])} \n",
        "        for state in sorted(values.keys())]\n",
        "\n",
        "with open('values-3.tsv', 'w', newline='') as tsvfile:\n",
        "    fieldnames = ['state', 'value']\n",
        "    writer = csv.DictWriter(tsvfile, fieldnames=fieldnames, delimiter='\\t')\n",
        "    \n",
        "    writer.writeheader()\n",
        "    writer.writerows(data)\n",
        "\n",
        "print(\"File 'values-3.tsv' has been created successfully!\")\n",
        "\n",
        "print(\"\\nContents of values-3.tsv:\")\n",
        "print(\"state\\tvalue\")\n",
        "for row in data:\n",
        "    print(f\"{row['state']}\\t{row['value']}\")\n",
        "\n",
        "print(\"\\n--- Final Values ---\")\n",
        "for state in sorted(values.keys()):\n",
        "    print(f\"{state}: {values[state]}\")"
      ]
    },
    {
      "cell_type": "markdown",
      "metadata": {
        "id": "NAKgdr4XysuK"
      },
      "source": [
        "Submit \"values-3.tsv\" in Gradescope."
      ]
    },
    {
      "cell_type": "markdown",
      "metadata": {
        "id": "zi8lV2pbvWMs"
      },
      "source": [
        "## Part 4: Acknowledgements\n",
        "\n",
        "If you discussed this assignment with anyone, please acknowledge them here.\n",
        "If you did this assignment completely on your own, simply write none below.\n",
        "\n",
        "If you used any libraries not mentioned in this module's content, please list them with a brief explanation what you used them for. If you did not use any other libraries, simply write none below.\n",
        "\n",
        "If you used any generative AI tools, please add links to your transcripts below, and any other information that you feel is necessary to comply with the generative AI policy. If you did not use any generative AI tools, simply write none below."
      ]
    },
    {
      "cell_type": "code",
      "execution_count": 7,
      "metadata": {},
      "outputs": [
        {
          "name": "stdout",
          "output_type": "stream",
          "text": [
            "Exists? True Size: 471 bytes\n",
            "\n",
            "Acknowledgments file created successfully!\n",
            "\n",
            "==================================================\n",
            "DX704 Week 5 — Acknowledgments\n",
            "Date: 2025-10-01\n",
            "\n",
            "People / Discussions\n",
            "- None.\n",
            "\n",
            "External Libraries (beyond standard course stack)\n",
            "- None. (Used only standard Python csv library for writing TSV files.)\n",
            "\n",
            "Data Sources\n",
            "- part1.png, part2.png, part3.png (provided as course materials).\n",
            "- part1.dot, part2.dot, part3.dot (provided as course materials).\n",
            "\n",
            "Generative AI Usage\n",
            "- None.\n",
            "\n",
            "Other Sources\n",
            "- DX601–DX704 example notebooks and lecture materials referenced as allowed.\n",
            "\n"
          ]
        }
      ],
      "source": [
        "from datetime import date\n",
        "\n",
        "ack_text = f\"\"\"DX704 Week 5 — Acknowledgments\n",
        "Date: {date.today().isoformat()}\n",
        "\n",
        "People / Discussions\n",
        "- None.\n",
        "\n",
        "External Libraries (beyond standard course stack)\n",
        "- None. (Used only standard Python csv library for writing TSV files.)\n",
        "\n",
        "Data Sources\n",
        "- part1.png, part2.png, part3.png (provided as course materials).\n",
        "- part1.dot, part2.dot, part3.dot (provided as course materials).\n",
        "\n",
        "Generative AI Usage\n",
        "- None.\n",
        "\n",
        "Other Sources\n",
        "- DX601–DX704 example notebooks and lecture materials referenced as allowed.\n",
        "\"\"\"\n",
        "\n",
        "with open(\"acknowledgments.txt\", \"w\", encoding=\"utf-8\") as f:\n",
        "    f.write(ack_text)\n",
        "\n",
        "import os\n",
        "print(\"Exists?\", os.path.exists(\"acknowledgments.txt\"), \"Size:\", os.path.getsize(\"acknowledgments.txt\"), \"bytes\")\n",
        "print(\"\\nAcknowledgments file created successfully!\")\n",
        "print(\"\\n\" + \"=\"*50)\n",
        "print(ack_text)"
      ]
    }
  ],
  "metadata": {
    "colab": {
      "toc_visible": false
    },
    "kernelspec": {
      "display_name": "Python 3",
      "name": "python3"
    },
    "language_info": {
      "codemirror_mode": {
        "name": "ipython",
        "version": 3
      },
      "file_extension": ".py",
      "mimetype": "text/x-python",
      "name": "python",
      "nbconvert_exporter": "python",
      "pygments_lexer": "ipython3",
      "version": "3.12.1"
    }
  },
  "nbformat": 4,
  "nbformat_minor": 0
}
